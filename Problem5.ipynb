{
 "cells": [
  {
   "cell_type": "code",
   "execution_count": 2,
   "metadata": {},
   "outputs": [],
   "source": [
    "class TrieNode(object):\n",
    "    def __init__(self):\n",
    "        self.is_word = False\n",
    "        self.children = {}\n",
    "\n",
    "    def suffixes(self, suffix = ''):\n",
    "        \n",
    "        def return_suffixes(node):\n",
    "    \n",
    "            if node.children == {} and node.is_word == True:\n",
    "                return \"\"\n",
    "    \n",
    "            else:\n",
    "                for key, value in node.children.items():\n",
    "                    output = return_suffixes(value) \n",
    "                    prefix = key + output\n",
    "                    return prefix\n",
    "                    \n",
    "        prefixes = []  \n",
    "        \n",
    "        for key, value in self.children.items():\n",
    "            output = return_suffixes(value)\n",
    "            prefix = key + output\n",
    "            prefixes.append(prefix)\n",
    "                \n",
    "        return prefixes    \n",
    "              \n",
    "class Trie(object):\n",
    "    \n",
    "    def __init__(self):\n",
    "        self.root = TrieNode()\n",
    "\n",
    "    def insert(self, word):\n",
    "\n",
    "        current_node = self.root\n",
    "\n",
    "        for char in word:\n",
    "            if char not in current_node.children:\n",
    "                current_node.children[char] = TrieNode()\n",
    "            current_node = current_node.children[char]\n",
    "\n",
    "        current_node.is_word = True\n",
    "\n",
    "    def exists(self, word):\n",
    "  \n",
    "        current_node = self.root\n",
    "\n",
    "        for char in word:\n",
    "            if char not in current_node.children:\n",
    "                return False\n",
    "            current_node = current_node.children[char]\n",
    "\n",
    "        return current_node.is_word  \n",
    "    \n",
    "    def find(self, suffix = ''):\n",
    "        \n",
    "            current_node = self.root\n",
    "            \n",
    "            for char in suffix:\n",
    "                current_node = current_node.children[char]\n",
    "            \n",
    "            return current_node"
   ]
  },
  {
   "cell_type": "code",
   "execution_count": 3,
   "metadata": {},
   "outputs": [
    {
     "name": "stdout",
     "output_type": "stream",
     "text": [
      "['hology', 'agonist', 'onym']\n"
     ]
    }
   ],
   "source": [
    "MyTrie = Trie()\n",
    "wordList = [\n",
    "    \"ant\", \"anthology\", \"antagonist\", \"antonym\", \n",
    "    \"fun\", \"function\", \"factory\", \n",
    "    \"trie\", \"trigger\", \"trigonometry\", \"tripod\"]\n",
    "for word in wordList:\n",
    "    MyTrie.insert(word)\n",
    "    \n",
    "\n",
    "node = MyTrie.find(\"ant\")\n",
    "\n",
    "suffix = node.suffixes(\"ant\")\n",
    "\n",
    "print(suffix)"
   ]
  },
  {
   "cell_type": "code",
   "execution_count": 4,
   "metadata": {},
   "outputs": [
    {
     "data": {
      "application/vnd.jupyter.widget-view+json": {
       "model_id": "cb543ca6174a41f18b8ece978d8dd93f",
       "version_major": 2,
       "version_minor": 0
      },
      "text/plain": [
       "interactive(children=(Text(value='', description='prefix'), Output()), _dom_classes=('widget-interact',))"
      ]
     },
     "metadata": {},
     "output_type": "display_data"
    }
   ],
   "source": [
    "from ipywidgets import widgets\n",
    "from IPython.display import display\n",
    "from ipywidgets import interact\n",
    "def f(prefix):\n",
    "    if prefix != '':\n",
    "        prefixNode = MyTrie.find(prefix)\n",
    "        if prefixNode:\n",
    "            print('\\n'.join(prefixNode.suffixes()))\n",
    "        else:\n",
    "            print(prefix + \" not found\")\n",
    "    else:\n",
    "        print('')\n",
    "interact(f,prefix='');"
   ]
  },
  {
   "cell_type": "code",
   "execution_count": null,
   "metadata": {},
   "outputs": [],
   "source": []
  }
 ],
 "metadata": {
  "kernelspec": {
   "display_name": "Python 3",
   "language": "python",
   "name": "python3"
  },
  "language_info": {
   "codemirror_mode": {
    "name": "ipython",
    "version": 3
   },
   "file_extension": ".py",
   "mimetype": "text/x-python",
   "name": "python",
   "nbconvert_exporter": "python",
   "pygments_lexer": "ipython3",
   "version": "3.7.6"
  }
 },
 "nbformat": 4,
 "nbformat_minor": 4
}
